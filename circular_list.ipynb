{
  "nbformat": 4,
  "nbformat_minor": 0,
  "metadata": {
    "colab": {
      "provenance": [],
      "authorship_tag": "ABX9TyN2GV+0HlTZ+yy+LQFOkfFf",
      "include_colab_link": true
    },
    "kernelspec": {
      "name": "python3",
      "display_name": "Python 3"
    },
    "language_info": {
      "name": "python"
    }
  },
  "cells": [
    {
      "cell_type": "markdown",
      "metadata": {
        "id": "view-in-github",
        "colab_type": "text"
      },
      "source": [
        "<a href=\"https://colab.research.google.com/github/ovis1me1me/DataStructure/blob/test_branch/circular_list.ipynb\" target=\"_parent\"><img src=\"https://colab.research.google.com/assets/colab-badge.svg\" alt=\"Open In Colab\"/></a>"
      ]
    },
    {
      "cell_type": "code",
      "execution_count": null,
      "metadata": {
        "id": "-R39eM3LbJku"
      },
      "outputs": [],
      "source": [
        "class ListNode: #새로운 노드를 만드는 클래스이다.\n",
        "  def __init__(self,newItem,nextNode): #새로운 원소와 다음 노드의 주소를 받는다.\n",
        "    self.item=newItem   \n",
        "    self.next=nextNode"
      ]
    },
    {
      "cell_type": "code",
      "source": [
        "class CircularLinkedList:\n",
        "\n",
        "  def __init__(self):\n",
        "    self.__tail=ListNode(\"dummy\",None)\n",
        "    self.__tail.next=self.__tail\n",
        "    self.__numItems=0\n",
        "\n",
        "  def insert(self,i:int,newItem):\n",
        "    if i>=0 and i<=self.__numItems-1:\n",
        "      prev=self.getNode(i-1)\n",
        "      newNode=ListNode(newItem,prev.next)\n",
        "      prev.next=newNode\n",
        "      self.__numItems+=1\n",
        "    else:\n",
        "      print(\"index\",i,\":out of bound in insert()\")\n",
        "\n",
        "  def append(self,newItem):\n",
        "    prev=self.__tail\n",
        "    newNode=ListNode(newItem,prev.next)\n",
        "    prev.next=newNode\n",
        "    self.__tail=newNode\n",
        "    self.__numItems+=1\n",
        "  \n",
        "  #가변 파라미터는 인자를 여러개 받을 때 사용하는데 인자가 없을 때도 사용가능하다.\n",
        "  #아래의 pop()메서드에서 가변 파라미터로 변수를 받겠다. 단, 인자가 여러개일 때 None을 return한다.\n",
        "  #인자가 없거나 -1일때 마지막 노드를 pop()한다.\n",
        "  def pop(self,*args):    #args==index\n",
        "    if self.isEmpty():\n",
        "      return None\n",
        "    if len(args)!=0:\n",
        "      i=args[0]\n",
        "    if len(args)==0 or len(args)==-1:\n",
        "      i=self.numItems-1\n",
        "    if i>=0 and i<=self.__numItems-1:\n",
        "      prev=self.getNode(i-1)\n",
        "      retItem=prev.next.item\n",
        "      prev.next=prev.next.next\n",
        "      if i==self.__numItems-1:\n",
        "        self.tail=prev\n",
        "      self.__numItems-=1\n",
        "    else:\n",
        "      return None\n",
        "\n",
        "  def remove(self,x):    #x==원소\n",
        "    (prev,curr)=self.findNode(x)\n",
        "    if curr!=None:\n",
        "      prev.next=curr.next\n",
        "      if curr==self.__tail:\n",
        "        self.tail=prev\n",
        "      self.numItems-=1\n",
        "    else:\n",
        "      return None\n",
        "    \n",
        "  def findNode(self,x):\n",
        "    __head=prev=self.__tail.next\n",
        "    curr=prev.next #0번 노드\n",
        "    while curr!=__head:\n",
        "      if curr.item==x:\n",
        "        return (prev,curr)\n",
        "      else:\n",
        "        prev=curr; curr=curr.next\n",
        "    return(None,None)\n",
        "\n",
        "\n",
        "  def get(self,*args):\n",
        "    if self.isEmpty():\n",
        "      return None\n",
        "    if len(args)==0 or args[0]==-1:\n",
        "      i=self.__numItems-1\n",
        "      return self.getNode(i).item\n",
        "    elif len(args)!=0:\n",
        "      i=args[0]\n",
        "      return self.getNode(i).item\n",
        "    else:\n",
        "      return None   \n",
        "\n",
        "  def index(self,x):\n",
        "    cnt=0\n",
        "    for element in self:\n",
        "      if element==x:\n",
        "        return cnt\n",
        "      cnt+=1\n",
        "    return -12345  #else문을 쓰지 않고 표현가능하다. 코드를 간결하게 해주는 스킬이므로 익혀두자.\n",
        "  \n",
        "  def clear(self):\n",
        "    self.__tail=ListNode(\"dummy\",None)\n",
        "    self.__tail.next=self.__tail\n",
        "    self.__numItems=0    \n",
        "\n",
        "  def count(self,x):\n",
        "    cnt=0\n",
        "    for element in self:\n",
        "      if element==x:\n",
        "        cnt+=1\n",
        "    return cnt    \n",
        "  \n",
        "  def isEmpty(self):\n",
        "    return self.__numItems==0\n",
        "\n",
        "  def getNode(self,i): #인덱스로 노드를 찾는다.\n",
        "    curr=self.__tail.next\n",
        "    for index in range(i):\n",
        "      curr=curr.next\n",
        "    return curr\n",
        "\n",
        "\n"
      ],
      "metadata": {
        "id": "5Rros-X4e2Ct"
      },
      "execution_count": null,
      "outputs": []
    },
    {
      "cell_type": "code",
      "source": [
        "a=CircularLinkedList()\n",
        "a.insert(0,3)\n",
        "a.insert(0,1)\n",
        "a.insert(0,2)"
      ],
      "metadata": {
        "colab": {
          "base_uri": "https://localhost:8080/"
        },
        "id": "PiZdPTunhE8L",
        "outputId": "6afc47d7-1c00-4d2c-d332-aa3ce8f985c2"
      },
      "execution_count": null,
      "outputs": [
        {
          "output_type": "stream",
          "name": "stdout",
          "text": [
            "index 0 :out of bound in insert()\n",
            "index 0 :out of bound in insert()\n",
            "index 0 :out of bound in insert()\n"
          ]
        }
      ]
    }
  ]
}