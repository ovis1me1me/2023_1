{
  "nbformat": 4,
  "nbformat_minor": 0,
  "metadata": {
    "colab": {
      "provenance": [],
      "collapsed_sections": [
        "K3xQubQhLL0i"
      ],
      "authorship_tag": "ABX9TyPzctqxw4AhU8MwI5EaKBRt",
      "include_colab_link": true
    },
    "kernelspec": {
      "name": "python3",
      "display_name": "Python 3"
    },
    "language_info": {
      "name": "python"
    }
  },
  "cells": [
    {
      "cell_type": "markdown",
      "metadata": {
        "id": "view-in-github",
        "colab_type": "text"
      },
      "source": [
        "<a href=\"https://colab.research.google.com/github/ovis1me1me/2023_1/blob/test_branch/%EB%8D%B0%EC%9D%B4%ED%84%B0%EA%B5%AC%EC%A1%B0_class.ipynb\" target=\"_parent\"><img src=\"https://colab.research.google.com/assets/colab-badge.svg\" alt=\"Open In Colab\"/></a>"
      ]
    },
    {
      "cell_type": "markdown",
      "source": [
        "####계속 더하는 파이썬 코드"
      ],
      "metadata": {
        "id": "XOHsFXQr_SXr"
      }
    },
    {
      "cell_type": "code",
      "source": [
        "result1=0\n",
        "result2=0\n",
        "\n",
        "def sum1(num):\n",
        "  global result1\n",
        "  result1+=num\n",
        "  return result1\n",
        "\n",
        "def sum2(num):\n",
        "  global result2\n",
        "  result2+=num\n",
        "  return result2\n",
        "\n",
        "print(sum1(3))\n",
        "print(sum1(5))\n",
        "\n",
        "\n",
        "print(sum2(5))\n",
        "print(sum2(8))"
      ],
      "metadata": {
        "colab": {
          "base_uri": "https://localhost:8080/"
        },
        "id": "eJY27ca5_bUi",
        "outputId": "b6b004fd-93a4-48d0-936c-b5a070cebb7c"
      },
      "execution_count": 8,
      "outputs": [
        {
          "output_type": "stream",
          "name": "stdout",
          "text": [
            "3\n",
            "8\n",
            "5\n",
            "13\n"
          ]
        }
      ]
    },
    {
      "cell_type": "markdown",
      "source": [
        "위 코드와 같이 각 계산기가 각자의 값을 유지하려면 서로 다른 함수를 작성해야 한다.\n",
        "##클래스를 사용하면 어떻게 될까?"
      ],
      "metadata": {
        "id": "40lGXejLAWnZ"
      }
    },
    {
      "cell_type": "code",
      "source": [
        "class Calculator:\n",
        "  def __init__(self):\n",
        "    self.result=0\n",
        "  \n",
        "  def add(self,num):\n",
        "    self.result+=num\n",
        "    return self.result\n",
        "\n",
        "cal1=Calculator()\n",
        "cal2=Calculator()\n",
        "\n",
        "print(cal1.add(3))\n",
        "print(cal1.add(4))\n",
        "\n",
        "print(cal2.add(5))\n",
        "print(cal2.add(6))"
      ],
      "metadata": {
        "colab": {
          "base_uri": "https://localhost:8080/"
        },
        "id": "DbUDxhjsAkmH",
        "outputId": "b1143b48-bd50-4dbd-f7de-842dc4f20d08"
      },
      "execution_count": 10,
      "outputs": [
        {
          "output_type": "stream",
          "name": "stdout",
          "text": [
            "3\n",
            "7\n",
            "5\n",
            "11\n"
          ]
        }
      ]
    },
    {
      "cell_type": "markdown",
      "source": [
        "\n",
        "\n",
        "*   과자 틀 -> 클래스\n",
        "\n",
        "\n",
        "*   과자 -> 객체\n",
        "\n",
        "###클래스란 똑같은 무언가를 계속 만들어내는 설계도면\n",
        "###객체는 클래스로 만든 피조물\n",
        "\n",
        "###이렇게 생성한 객체들은 각자 **고유한 성격**을 가진다. 또한 동일한 클래스로 만든 객체들은 서로 영향을 주지 않는다."
      ],
      "metadata": {
        "id": "8QoY4D2rCZIs"
      }
    },
    {
      "cell_type": "markdown",
      "source": [
        "가장 간단한 클래스를 만들어보자.\n",
        "아래의 과정으로 choco와 vanila라는 객체가 생성되었다.\n",
        "\n",
        "###객체와 인스턴스의 차이\n",
        "choco와 vanila는 객체이다. choco 객체는 Cookie의 인스턴스이다."
      ],
      "metadata": {
        "id": "g8DTgL_bDZ4e"
      }
    },
    {
      "cell_type": "code",
      "source": [
        "class Cookie:\n",
        "  pass\n",
        "choco=Cookie()\n",
        "vanila=Cookie()"
      ],
      "metadata": {
        "id": "QGZFUGc6C3ik"
      },
      "execution_count": 12,
      "outputs": []
    },
    {
      "cell_type": "markdown",
      "source": [
        "###클래스를 만드는 방식\n",
        "클래스를 무작정 만들기 보단 클래스로 만든 객체를 중심으로 동작을 구상한 후 하나씩 해결하자."
      ],
      "metadata": {
        "id": "Plf-_5YaElxv"
      }
    },
    {
      "cell_type": "markdown",
      "source": [
        "\n",
        "\n",
        "1.   a=Fourcal()을 입력하여 객체를 만들어보자.\n",
        "2.   a.setdata(3,7) 두 숫자를 a에 지정하자.\n",
        "3.   a.add()는 3+7을 리턴 a.mul()은 21을 리턴..\n",
        "4.   항목 추가\n",
        "\n",
        "\n",
        "\n"
      ],
      "metadata": {
        "id": "3ZBIEpw0E_fu"
      }
    },
    {
      "cell_type": "code",
      "source": [
        "class Fourcal:\n",
        "\n",
        "  def setdata(self,first,second): #self에 객체 a를 전달,self는 다른 변수명을 써도 무관관\n",
        "    self.first=first\n",
        "    self.second=second\n",
        "\n",
        "  def add(self):\n",
        "    result=self.first+self.second\n",
        "    return result\n",
        "\n",
        "  def sub(self):\n",
        "    result=self.first-self.second\n",
        "    return result\n",
        "\n",
        "  def mul(self):\n",
        "    result=self.first*self.second\n",
        "    return result\n",
        "\n",
        "  def div(self):\n",
        "    result=self.first/self.second\n",
        "    return result\n",
        " \n",
        "a=Fourcal()\n",
        "print(type(a))\n",
        "a.setdata(3,7)\n",
        "print(a.add())\n",
        "print(a.sub())\n",
        "print(a.mul())\n",
        "print(a.div())\n"
      ],
      "metadata": {
        "colab": {
          "base_uri": "https://localhost:8080/"
        },
        "id": "2w77ilnqC9NP",
        "outputId": "810c3ab3-cada-4c89-e2e1-377f8c16a067"
      },
      "execution_count": 26,
      "outputs": [
        {
          "output_type": "stream",
          "name": "stdout",
          "text": [
            "<class '__main__.Fourcal'>\n",
            "10\n",
            "-4\n",
            "21\n",
            "0.42857142857142855\n"
          ]
        }
      ]
    },
    {
      "cell_type": "markdown",
      "source": [
        "###아래 코드의 오류는 setdata 메서드를 수행하지 않고 add메서드를 수행하여 발생한 오류다. 아직 b라는 객체의 객체변수를 지정하지 않았다."
      ],
      "metadata": {
        "id": "K3xQubQhLL0i"
      }
    },
    {
      "cell_type": "code",
      "source": [
        "b=Fourcal()\n",
        "b.add(3,4)\n",
        "#해당 오류는 setdata메서드를 수행하지 않고 add메서드를 먼저 수행하여 발생하는오류이다.\n",
        "#아직 객체변수를 지정하지 않았다."
      ],
      "metadata": {
        "colab": {
          "base_uri": "https://localhost:8080/",
          "height": 194
        },
        "id": "uQToW_ICKqWJ",
        "outputId": "426313bf-104f-47f2-8d8f-425b9ec53c1e"
      },
      "execution_count": 21,
      "outputs": [
        {
          "output_type": "error",
          "ename": "TypeError",
          "evalue": "ignored",
          "traceback": [
            "\u001b[0;31m---------------------------------------------------------------------------\u001b[0m",
            "\u001b[0;31mTypeError\u001b[0m                                 Traceback (most recent call last)",
            "\u001b[0;32m<ipython-input-21-5f6309df298a>\u001b[0m in \u001b[0;36m<module>\u001b[0;34m\u001b[0m\n\u001b[1;32m      1\u001b[0m \u001b[0mb\u001b[0m\u001b[0;34m=\u001b[0m\u001b[0mFourcal\u001b[0m\u001b[0;34m(\u001b[0m\u001b[0;34m)\u001b[0m\u001b[0;34m\u001b[0m\u001b[0;34m\u001b[0m\u001b[0m\n\u001b[0;32m----> 2\u001b[0;31m \u001b[0mb\u001b[0m\u001b[0;34m.\u001b[0m\u001b[0madd\u001b[0m\u001b[0;34m(\u001b[0m\u001b[0;36m3\u001b[0m\u001b[0;34m,\u001b[0m\u001b[0;36m4\u001b[0m\u001b[0;34m)\u001b[0m\u001b[0;34m\u001b[0m\u001b[0;34m\u001b[0m\u001b[0m\n\u001b[0m",
            "\u001b[0;31mTypeError\u001b[0m: add() takes 1 positional argument but 3 were given"
          ]
        }
      ]
    },
    {
      "cell_type": "markdown",
      "source": [
        "##**생성자**\n",
        "####이와 같이 초깃값을 설정할 필요가 있을 때는 메서드를 호출하여 초깃값을 설정하기보단 **생성자**를 구현하는 것이 안전하다.\n",
        "\n",
        "####생성자란 객체가 생성될 때 자동으로 호출되는 메서드를 의미한다.\n",
        "\n",
        "#### 메서드에 __init__이라는 이름을 붙이면 생성자가 되는데 아래 코드를 보면 __init__과 setdata의 코드에 차이가 없다. "
      ],
      "metadata": {
        "id": "g9kk5UXGLayo"
      }
    },
    {
      "cell_type": "code",
      "source": [
        "class Fourcal:\n",
        "\n",
        "  def __init__(self,first,second): \n",
        "    self.first=first\n",
        "    self.second=second\n",
        "\n",
        "  def setdata(self,first,second): \n",
        "    self.first=first\n",
        "    self.second=second\n",
        "\n",
        "  def add(self):\n",
        "    result=self.first+self.second\n",
        "    return result\n",
        "\n",
        "  def sub(self):\n",
        "    result=self.first-self.second\n",
        "    return result\n",
        "\n",
        "  def mul(self):\n",
        "    result=self.first*self.second\n",
        "    return result\n",
        "\n",
        "  def div(self):\n",
        "    result=self.first/self.second\n",
        "    return result\n",
        "\n"
      ],
      "metadata": {
        "id": "KGCjlQ2nLZ1Y"
      },
      "execution_count": 31,
      "outputs": []
    },
    {
      "cell_type": "markdown",
      "source": [
        "이 시점에서 setdata를 부르지 않고 c.add(3,4)해보자"
      ],
      "metadata": {
        "id": "qV6x9KQFNCUq"
      }
    },
    {
      "cell_type": "code",
      "source": [
        "c=Fourcal(3,4)\n",
        "c.add()\n"
      ],
      "metadata": {
        "colab": {
          "base_uri": "https://localhost:8080/"
        },
        "id": "QQQClqXnOgAB",
        "outputId": "904badbb-bd20-41ae-f817-17f4ef627f99"
      },
      "execution_count": 33,
      "outputs": [
        {
          "output_type": "execute_result",
          "data": {
            "text/plain": [
              "7"
            ]
          },
          "metadata": {},
          "execution_count": 33
        }
      ]
    },
    {
      "cell_type": "markdown",
      "source": [
        "##**클래스의 상속**\n",
        "새로운 클래스를 만들 때 다른 클래스의 기능을 물려받게 만드는 것을 **상속**이라고 한다.\n",
        "Four 클래스에 a**b를 구할 수 있는 기능을 추가해보자.\n",
        "\n",
        "Fourcal 클래스에 있던 add기능이 상속되어 정상적으로 사용되는 것을 알 수 있다."
      ],
      "metadata": {
        "id": "wRVHHC9ePESc"
      }
    },
    {
      "cell_type": "code",
      "source": [
        "class MoreFourcal(Fourcal):\n",
        "  def pow(self):\n",
        "    result=self.first**self.second\n",
        "    return result\n",
        "\n",
        "a=MoreFourcal(3,4)\n",
        "print(a.add())\n",
        "print(a.pow())\n"
      ],
      "metadata": {
        "colab": {
          "base_uri": "https://localhost:8080/"
        },
        "id": "P2FillMBOu6T",
        "outputId": "c6248251-c525-4644-f854-272e32e37e5d"
      },
      "execution_count": 42,
      "outputs": [
        {
          "output_type": "stream",
          "name": "stdout",
          "text": [
            "7\n",
            "81\n"
          ]
        }
      ]
    },
    {
      "cell_type": "markdown",
      "source": [
        "##**메서드 오버라이딩**\n",
        "상속한 클래스에 다른 클래스에 있는 메서드를 동일한 이름으로 다시 만드는 것을 말한다."
      ],
      "metadata": {
        "id": "Tpb33YFXQZvQ"
      }
    },
    {
      "cell_type": "code",
      "source": [
        "class SafeFourCal(MoreFourcal): #상속의 상속을 해봤다. just fun\n",
        "  def div(self):\n",
        "    if self.second==0:\n",
        "      return 0\n",
        "    else:\n",
        "      return self.first/self.second\n",
        "\n",
        "a=Fourcal(4,2)\n",
        "b=SafeFourCal(3,0)\n",
        "\n",
        "print(a.div())\n",
        "print(b.div())"
      ],
      "metadata": {
        "colab": {
          "base_uri": "https://localhost:8080/"
        },
        "id": "Y7bcHcHCXfJf",
        "outputId": "c6325bfd-80fa-44d8-fc7b-a38ae22437e6"
      },
      "execution_count": 46,
      "outputs": [
        {
          "output_type": "stream",
          "name": "stdout",
          "text": [
            "2.0\n",
            "0\n"
          ]
        }
      ]
    },
    {
      "cell_type": "markdown",
      "source": [
        "##**클래스 변수**\n",
        "####객체변수: 다른 객체의 영향을 받지 않는다.\n",
        "####클래스 변수는 객체변수와는 다른 성격을 가진다.\n",
        "####클래스변수는 클래스이름.클래스변수로 사용할 수 있다."
      ],
      "metadata": {
        "id": "OEmQjTOkbvfo"
      }
    },
    {
      "cell_type": "code",
      "source": [
        "class Family:\n",
        "  lastname='kim'\n",
        "print(Family.lastname)\n",
        "a=Family()\n",
        "print(a.lastname)"
      ],
      "metadata": {
        "colab": {
          "base_uri": "https://localhost:8080/"
        },
        "id": "yiUz2v2qcDUR",
        "outputId": "bc3aac3e-0101-4e6d-aa0b-f0b16ff519b6"
      },
      "execution_count": 49,
      "outputs": [
        {
          "output_type": "stream",
          "name": "stdout",
          "text": [
            "kim\n",
            "kim\n"
          ]
        }
      ]
    },
    {
      "cell_type": "markdown",
      "source": [
        "#####Family.lastname을 'park'으로 바꿔보자."
      ],
      "metadata": {
        "id": "pAEL-o5iclJK"
      }
    },
    {
      "cell_type": "code",
      "source": [
        "Family.lastname='park'\n",
        "print(a.lastname)\n",
        "#클래스 변수는 모든 객체에 공유된다."
      ],
      "metadata": {
        "colab": {
          "base_uri": "https://localhost:8080/"
        },
        "id": "fTxHk67fctYf",
        "outputId": "a25979ee-b790-4165-a051-1c38564b9c54"
      },
      "execution_count": 51,
      "outputs": [
        {
          "output_type": "stream",
          "name": "stdout",
          "text": [
            "park\n"
          ]
        }
      ]
    }
  ]
}