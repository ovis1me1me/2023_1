{
  "nbformat": 4,
  "nbformat_minor": 0,
  "metadata": {
    "colab": {
      "provenance": [],
      "authorship_tag": "ABX9TyNN6G8trLIwPtFMR5JSlEt8",
      "include_colab_link": true
    },
    "kernelspec": {
      "name": "python3",
      "display_name": "Python 3"
    },
    "language_info": {
      "name": "python"
    }
  },
  "cells": [
    {
      "cell_type": "markdown",
      "metadata": {
        "id": "view-in-github",
        "colab_type": "text"
      },
      "source": [
        "<a href=\"https://colab.research.google.com/github/ovis1me1me/2323_1/blob/test_branch/%EB%8D%B0%EC%9D%B4%ED%84%B0%EA%B5%AC%EC%A1%B0_class.ipynb\" target=\"_parent\"><img src=\"https://colab.research.google.com/assets/colab-badge.svg\" alt=\"Open In Colab\"/></a>"
      ]
    },
    {
      "cell_type": "markdown",
      "source": [
        "계속 더하는 파이썬 코드"
      ],
      "metadata": {
        "id": "XOHsFXQr_SXr"
      }
    },
    {
      "cell_type": "code",
      "source": [
        "result1=0\n",
        "result2=0\n",
        "\n",
        "def sum1(num):\n",
        "  global result1\n",
        "  result1+=num\n",
        "  return result1\n",
        "\n",
        "def sum2(num):\n",
        "  global result2\n",
        "  result2+=num\n",
        "  return result2\n",
        "\n",
        "print(sum1(3))\n",
        "print(sum1(5))\n",
        "\n",
        "\n",
        "print(sum2(5))\n",
        "print(sum2(8))"
      ],
      "metadata": {
        "colab": {
          "base_uri": "https://localhost:8080/"
        },
        "id": "eJY27ca5_bUi",
        "outputId": "b6b004fd-93a4-48d0-936c-b5a070cebb7c"
      },
      "execution_count": 8,
      "outputs": [
        {
          "output_type": "stream",
          "name": "stdout",
          "text": [
            "3\n",
            "8\n",
            "5\n",
            "13\n"
          ]
        }
      ]
    },
    {
      "cell_type": "markdown",
      "source": [
        "위 코드와 같이 각 계산기가 각자의 값을 유지하려면 서로 다른 함수를 작성해야 한다.\n",
        "##클래스를 사용하면 어떻게 될까?"
      ],
      "metadata": {
        "id": "40lGXejLAWnZ"
      }
    },
    {
      "cell_type": "code",
      "source": [
        "class Calculator:\n",
        "  def __init__(self):\n",
        "    self.result=0\n",
        "  \n",
        "  def add(self,num):\n",
        "    self.result+=num\n",
        "    return self.result\n",
        "\n",
        "cal1=Calculator()\n",
        "cal2=Calculator()\n",
        "\n",
        "print(cal1.add(3))\n",
        "print(cal1.add(4))\n",
        "\n",
        "print(cal2.add(5))\n",
        "print(cal2.add(6))"
      ],
      "metadata": {
        "colab": {
          "base_uri": "https://localhost:8080/"
        },
        "id": "DbUDxhjsAkmH",
        "outputId": "b1143b48-bd50-4dbd-f7de-842dc4f20d08"
      },
      "execution_count": 10,
      "outputs": [
        {
          "output_type": "stream",
          "name": "stdout",
          "text": [
            "3\n",
            "7\n",
            "5\n",
            "11\n"
          ]
        }
      ]
    },
    {
      "cell_type": "markdown",
      "source": [
        "\n",
        "\n",
        "*   과자 틀 -> 클래스\n",
        "\n",
        "\n",
        "*   과자 -> 객체\n",
        "\n",
        "###클래스란 똑같은 무언가를 계속 만들어내는 설계도면\n",
        "###객체는 클래스로 만든 피조물\n",
        "\n",
        "###이렇게 생성한 객체들은 각자 **고유한 성격**을 가진다. 또한 동일한 클래스로 만든 객체들은 서로 영향을 주지 않는다."
      ],
      "metadata": {
        "id": "8QoY4D2rCZIs"
      }
    },
    {
      "cell_type": "markdown",
      "source": [
        "가장 간단한 클래스를 만들어보자.\n",
        "아래의 과정으로 choco와 vanila라는 객체가 생성되었다.\n",
        "\n",
        "###객체와 인스턴스의 차이\n",
        "choco와 vanila는 객체이다. choco 객체는 Cookie의 인스턴스이다."
      ],
      "metadata": {
        "id": "g8DTgL_bDZ4e"
      }
    },
    {
      "cell_type": "code",
      "source": [
        "class Cookie:\n",
        "  pass\n",
        "choco=Cookie()\n",
        "vanila=Cookie()"
      ],
      "metadata": {
        "id": "QGZFUGc6C3ik"
      },
      "execution_count": 12,
      "outputs": []
    },
    {
      "cell_type": "markdown",
      "source": [
        "###클래스를 만드는 방식\n",
        "클래스를 무작정 만들기 보단 클래스로 만든 객체를 중심으로 동작을 구상한 후 하나씩 해결하자."
      ],
      "metadata": {
        "id": "Plf-_5YaElxv"
      }
    },
    {
      "cell_type": "markdown",
      "source": [
        "\n",
        "\n",
        "1.   a=Fourcal()을 입력하여 객체를 만들어보자.\n",
        "2.   a.setdata(3,7) 두 숫자를 a에 지정하자.\n",
        "3.   a.add()는 3+7을 리턴 a.mul()은 21을 리턴..\n",
        "4.   항목 추가\n",
        "\n",
        "\n",
        "\n"
      ],
      "metadata": {
        "id": "3ZBIEpw0E_fu"
      }
    },
    {
      "cell_type": "code",
      "source": [
        "class Fourcal:\n",
        "\n",
        "  def setdata(self,first,second): #self에 객체 a를 전달,self는 다른 변수명을 써도 무관관\n",
        "    self.first=first\n",
        "    self.second=second\n",
        "\n",
        "  def add(self):\n",
        "    result=self.first+self.second\n",
        "    return result\n",
        "\n",
        "  def sub(self):\n",
        "    result=self.first-self.second\n",
        "    return result\n",
        "\n",
        "  def mul(self):\n",
        "    result=self.first*self.second\n",
        "    return result\n",
        "\n",
        "  def div(self):\n",
        "    result=self.first/self.second\n",
        "    return result\n",
        " \n",
        "a=Fourcal()\n",
        "print(type(a))\n",
        "a.setdata(3,7)\n",
        "print(a.add())\n",
        "print(a.sub())\n",
        "print(a.mul())\n",
        "print(a.div())\n"
      ],
      "metadata": {
        "colab": {
          "base_uri": "https://localhost:8080/"
        },
        "id": "2w77ilnqC9NP",
        "outputId": "71017c65-48f2-4d3d-f8f0-4e65d8c5cd96"
      },
      "execution_count": 20,
      "outputs": [
        {
          "output_type": "stream",
          "name": "stdout",
          "text": [
            "<class '__main__.Fourcal'>\n",
            "10\n",
            "-4\n",
            "21\n",
            "0.42857142857142855\n"
          ]
        }
      ]
    }
  ]
}