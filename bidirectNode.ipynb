{
  "nbformat": 4,
  "nbformat_minor": 0,
  "metadata": {
    "colab": {
      "provenance": [],
      "authorship_tag": "ABX9TyPgB2JII3U9WbFvlaI01Uhp",
      "include_colab_link": true
    },
    "kernelspec": {
      "name": "python3",
      "display_name": "Python 3"
    },
    "language_info": {
      "name": "python"
    }
  },
  "cells": [
    {
      "cell_type": "markdown",
      "metadata": {
        "id": "view-in-github",
        "colab_type": "text"
      },
      "source": [
        "<a href=\"https://colab.research.google.com/github/ovis1me1me/DataStructure/blob/test_branch/bidirectNode.ipynb\" target=\"_parent\"><img src=\"https://colab.research.google.com/assets/colab-badge.svg\" alt=\"Open In Colab\"/></a>"
      ]
    },
    {
      "cell_type": "code",
      "execution_count": 64,
      "metadata": {
        "id": "xNP3MtH8Jwbh"
      },
      "outputs": [],
      "source": [
        "class BidirectNode:\n",
        "  def __init__(self,x,prevNode,nextNode):\n",
        "    self.item=x\n",
        "    self.prev=prevNode\n",
        "    self.next=nextNode"
      ]
    },
    {
      "cell_type": "code",
      "source": [
        "class CircularDoublyLinkedList:\n",
        "  def __init__(self):\n",
        "    self.__head=BidirectNode('dummy',None,None)\n",
        "    self.__head.prev=self.__head\n",
        "    self.__head.next=self.__head\n",
        "    self.__numItems=0\n",
        "\n",
        "  def append(self,newItem):\n",
        "    prev=self.__head.prev\n",
        "    newNode=BidirectNode(newItem,prev,self.__head)\n",
        "    prev.next=newNode\n",
        "    self.__head.prev=newNode\n",
        "    self.__numItems+=1\n",
        "  def insert(self,index,newItem):\n",
        "    if index>=0 and index<=self.__numItems:\n",
        "      prev=self.getNode(index-1)\n",
        "      newNode=BidirectNode(newItem,prev,prev.next)\n",
        "      newNode.next.prev=newNode\n",
        "      prev.next=newNode\n",
        "      self.__numItems+=1\n",
        "    else:\n",
        "      return None\n",
        "  def pop(self,*index):\n",
        "    #index가 -1이나 none이면 마지막 pop\n",
        "    #리스트가 비었으면 return None\n",
        "    if self.isEmpty():\n",
        "      return None\n",
        "    if len(index)!=0:\n",
        "      i=index[0]\n",
        "    if len(index)==0 or i==-1:\n",
        "      i=self.__numItems-1\n",
        "    if i>=0 and i<=self.__numItems-1:\n",
        "      curr=self.getNode(i)\n",
        "      retItem=curr.item\n",
        "      curr.prev.next=curr.next\n",
        "      curr.next.prev=curr.prev\n",
        "      self.__numItems-=1\n",
        "      return retItem\n",
        "    else:\n",
        "      return None\n",
        "  def remove(self,x):\n",
        "    curr=self.__findNode(x)\n",
        "    if curr!=None:\n",
        "      curr.prev.next=curr.next\n",
        "      curr.next.prev=curr.prev\n",
        "      self.__numItems-=1\n",
        "      return x\n",
        "    else:\n",
        "      return None\n",
        "  def get(self,*index):\n",
        "    if self.isEmpty():\n",
        "      return None\n",
        "    if len(index)!=0:\n",
        "      i=index[0]\n",
        "    if len(index)==0 or i==-1:\n",
        "      i=self.__numItems-1\n",
        "    if i>=0 and i<=self.__numItems-1:\n",
        "      return self.getNode(i).item\n",
        "    else:\n",
        "      return None\n",
        "  def size(self):\n",
        "    return self.__numItems\n",
        "  def clear(self):\n",
        "    self.__head=BidirectNode('dummy',None,None)\n",
        "    self.__head.prev=self.__head\n",
        "    self.__head.next=self.__next\n",
        "    self.__numItems=0\n",
        "  def extend(self,a):\n",
        "    pass           #이터레이터\n",
        "  def copy(self):\n",
        "    pass              #이터레이터\n",
        "  def reverse(self):\n",
        "    pass\n",
        "  def sort(self):\n",
        "    pass\n",
        "  def count(self):\n",
        "    pass\n",
        "    \n",
        "  def index(self,x): #나중에 이터레이터로로\n",
        "    cnt=0\n",
        "    curr=self.__head.next\n",
        "    while curr!=self.__head:\n",
        "      if curr.item==x:\n",
        "        return cnt\n",
        "      curr=curr.next\n",
        "      cnt+=1\n",
        "    return -12345\n",
        "    \n",
        "\n",
        "\n",
        "\n",
        "    \n",
        "  def isEmpty(self):\n",
        "    return self.__numItems==0\n",
        "\n",
        "  def findNode(self,x):\n",
        "    curr=self.__head.next #0번노드\n",
        "    while curr!=self.__head:\n",
        "      if curr.item==x:\n",
        "        return curr\n",
        "      else:\n",
        "        curr=curr.next\n",
        "    return None\n",
        "  def getNode(self,index):\n",
        "    curr=self.__head\n",
        "    for i in range(index+1):\n",
        "      curr=curr.next\n",
        "    return curr\n",
        "  def printList(self):              #나중에 이터레이터로 변경\n",
        "    curr=self.__head.next\n",
        "    while curr!=self.__head:\n",
        "      print(curr.item,end=' ')\n",
        "      curr=curr.next\n",
        "  "
      ],
      "metadata": {
        "id": "AbInvm4xKTnR"
      },
      "execution_count": 65,
      "outputs": []
    },
    {
      "cell_type": "code",
      "source": [
        "a=CircularDoublyLinkedList()\n",
        "for i in range(1,10):\n",
        "  a.append(i)\n",
        "a.printList()"
      ],
      "metadata": {
        "colab": {
          "base_uri": "https://localhost:8080/"
        },
        "id": "16x3Pix3bc24",
        "outputId": "0564eaa1-b2ed-435d-f35b-5243a4972920"
      },
      "execution_count": 66,
      "outputs": [
        {
          "output_type": "stream",
          "name": "stdout",
          "text": [
            "1 2 3 4 5 6 7 8 9 "
          ]
        }
      ]
    },
    {
      "cell_type": "code",
      "source": [
        "a.index(1)"
      ],
      "metadata": {
        "colab": {
          "base_uri": "https://localhost:8080/"
        },
        "id": "B0q6QJ35c0Fz",
        "outputId": "71848e38-372c-4f2e-8201-021b300323f0"
      },
      "execution_count": 67,
      "outputs": [
        {
          "output_type": "execute_result",
          "data": {
            "text/plain": [
              "0"
            ]
          },
          "metadata": {},
          "execution_count": 67
        }
      ]
    },
    {
      "cell_type": "code",
      "source": [
        "a.remove(1)"
      ],
      "metadata": {
        "colab": {
          "base_uri": "https://localhost:8080/",
          "height": 299
        },
        "id": "gR4qyD5KdHKL",
        "outputId": "6893fd76-ce8d-4cf2-833b-83f240e2e0e1"
      },
      "execution_count": 68,
      "outputs": [
        {
          "output_type": "error",
          "ename": "AttributeError",
          "evalue": "ignored",
          "traceback": [
            "\u001b[0;31m---------------------------------------------------------------------------\u001b[0m",
            "\u001b[0;31mAttributeError\u001b[0m                            Traceback (most recent call last)",
            "\u001b[0;32m<ipython-input-68-23b4d84ce1c4>\u001b[0m in \u001b[0;36m<cell line: 1>\u001b[0;34m()\u001b[0m\n\u001b[0;32m----> 1\u001b[0;31m \u001b[0ma\u001b[0m\u001b[0;34m.\u001b[0m\u001b[0mremove\u001b[0m\u001b[0;34m(\u001b[0m\u001b[0;36m1\u001b[0m\u001b[0;34m)\u001b[0m\u001b[0;34m\u001b[0m\u001b[0;34m\u001b[0m\u001b[0m\n\u001b[0m",
            "\u001b[0;32m<ipython-input-65-e88563de346a>\u001b[0m in \u001b[0;36mremove\u001b[0;34m(self, x)\u001b[0m\n\u001b[1;32m     40\u001b[0m       \u001b[0;32mreturn\u001b[0m \u001b[0;32mNone\u001b[0m\u001b[0;34m\u001b[0m\u001b[0;34m\u001b[0m\u001b[0m\n\u001b[1;32m     41\u001b[0m   \u001b[0;32mdef\u001b[0m \u001b[0mremove\u001b[0m\u001b[0;34m(\u001b[0m\u001b[0mself\u001b[0m\u001b[0;34m,\u001b[0m\u001b[0mx\u001b[0m\u001b[0;34m)\u001b[0m\u001b[0;34m:\u001b[0m\u001b[0;34m\u001b[0m\u001b[0;34m\u001b[0m\u001b[0m\n\u001b[0;32m---> 42\u001b[0;31m     \u001b[0mcurr\u001b[0m\u001b[0;34m=\u001b[0m\u001b[0mself\u001b[0m\u001b[0;34m.\u001b[0m\u001b[0m__findNode\u001b[0m\u001b[0;34m(\u001b[0m\u001b[0mx\u001b[0m\u001b[0;34m)\u001b[0m\u001b[0;34m\u001b[0m\u001b[0;34m\u001b[0m\u001b[0m\n\u001b[0m\u001b[1;32m     43\u001b[0m     \u001b[0;32mif\u001b[0m \u001b[0mcurr\u001b[0m\u001b[0;34m!=\u001b[0m\u001b[0;32mNone\u001b[0m\u001b[0;34m:\u001b[0m\u001b[0;34m\u001b[0m\u001b[0;34m\u001b[0m\u001b[0m\n\u001b[1;32m     44\u001b[0m       \u001b[0mcurr\u001b[0m\u001b[0;34m.\u001b[0m\u001b[0mprev\u001b[0m\u001b[0;34m.\u001b[0m\u001b[0mnext\u001b[0m\u001b[0;34m=\u001b[0m\u001b[0mcurr\u001b[0m\u001b[0;34m.\u001b[0m\u001b[0mnext\u001b[0m\u001b[0;34m\u001b[0m\u001b[0;34m\u001b[0m\u001b[0m\n",
            "\u001b[0;31mAttributeError\u001b[0m: 'CircularDoublyLinkedList' object has no attribute '_CircularDoublyLinkedList__findNode'"
          ]
        }
      ]
    },
    {
      "cell_type": "code",
      "source": [
        "a.insert(2,12)\n",
        "a.printList()"
      ],
      "metadata": {
        "colab": {
          "base_uri": "https://localhost:8080/"
        },
        "id": "GnYso-pFd6oQ",
        "outputId": "5705eba8-e345-427a-cc6a-886ebf078080"
      },
      "execution_count": 69,
      "outputs": [
        {
          "output_type": "stream",
          "name": "stdout",
          "text": [
            "1 2 12 3 4 5 6 7 8 9 "
          ]
        }
      ]
    },
    {
      "cell_type": "code",
      "source": [
        "a.pop(2)\n",
        "a.printList()"
      ],
      "metadata": {
        "id": "Z8KGySbOeyDM"
      },
      "execution_count": null,
      "outputs": []
    },
    {
      "cell_type": "code",
      "source": [
        "print(a.get(0))"
      ],
      "metadata": {
        "colab": {
          "base_uri": "https://localhost:8080/"
        },
        "id": "5_WLCWYKfa2V",
        "outputId": "8b2b8086-7c32-425c-ff93-d42492e469a7"
      },
      "execution_count": 71,
      "outputs": [
        {
          "output_type": "stream",
          "name": "stdout",
          "text": [
            "1\n"
          ]
        }
      ]
    },
    {
      "cell_type": "code",
      "source": [
        "a.index(8)"
      ],
      "metadata": {
        "colab": {
          "base_uri": "https://localhost:8080/"
        },
        "id": "ntcyOg92ftn4",
        "outputId": "5eca3d6d-7baa-4eae-8fd4-4c053dfca2f0"
      },
      "execution_count": 72,
      "outputs": [
        {
          "output_type": "execute_result",
          "data": {
            "text/plain": [
              "7"
            ]
          },
          "metadata": {},
          "execution_count": 72
        }
      ]
    },
    {
      "cell_type": "code",
      "source": [
        "a.isEmpty()"
      ],
      "metadata": {
        "colab": {
          "base_uri": "https://localhost:8080/"
        },
        "id": "8yAxSLn3fx64",
        "outputId": "27ba1869-a94f-471d-b12f-329161ef682e"
      },
      "execution_count": 73,
      "outputs": [
        {
          "output_type": "execute_result",
          "data": {
            "text/plain": [
              "False"
            ]
          },
          "metadata": {},
          "execution_count": 73
        }
      ]
    },
    {
      "cell_type": "code",
      "source": [
        "a.printList()"
      ],
      "metadata": {
        "colab": {
          "base_uri": "https://localhost:8080/"
        },
        "id": "HCmZgyx4f8UF",
        "outputId": "4ee7be55-8626-4fd0-81ce-9a8bf7178561"
      },
      "execution_count": 75,
      "outputs": [
        {
          "output_type": "stream",
          "name": "stdout",
          "text": [
            "1 2 3 4 5 6 7 8 9 "
          ]
        }
      ]
    },
    {
      "cell_type": "code",
      "source": [
        "a.size()"
      ],
      "metadata": {
        "colab": {
          "base_uri": "https://localhost:8080/"
        },
        "id": "6BFT2wQBf3OG",
        "outputId": "ccaa1b0e-8130-4496-dc46-f650e24ac23f"
      },
      "execution_count": 74,
      "outputs": [
        {
          "output_type": "execute_result",
          "data": {
            "text/plain": [
              "9"
            ]
          },
          "metadata": {},
          "execution_count": 74
        }
      ]
    },
    {
      "cell_type": "code",
      "source": [
        "a.append(1)"
      ],
      "metadata": {
        "id": "mJuCuUF5gBGW"
      },
      "execution_count": 76,
      "outputs": []
    },
    {
      "cell_type": "markdown",
      "source": [],
      "metadata": {
        "id": "6hi8vYF6L74F"
      }
    }
  ]
}