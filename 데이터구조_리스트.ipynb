{
  "nbformat": 4,
  "nbformat_minor": 0,
  "metadata": {
    "colab": {
      "provenance": [],
      "authorship_tag": "ABX9TyOgylwEserJPgux8Vhqxxz7",
      "include_colab_link": true
    },
    "kernelspec": {
      "name": "python3",
      "display_name": "Python 3"
    },
    "language_info": {
      "name": "python"
    }
  },
  "cells": [
    {
      "cell_type": "markdown",
      "metadata": {
        "id": "view-in-github",
        "colab_type": "text"
      },
      "source": [
        "<a href=\"https://colab.research.google.com/github/ovis1me1me/oss_space/blob/test_branch/%EB%8D%B0%EC%9D%B4%ED%84%B0%EA%B5%AC%EC%A1%B0_%EB%A6%AC%EC%8A%A4%ED%8A%B8.ipynb\" target=\"_parent\"><img src=\"https://colab.research.google.com/assets/colab-badge.svg\" alt=\"Open In Colab\"/></a>"
      ]
    },
    {
      "cell_type": "code",
      "execution_count": null,
      "metadata": {
        "id": "ijs5h_ZzxFyA"
      },
      "outputs": [],
      "source": [
        "#질문\n",
        "newNode.item=x\n",
        "newNode.next=prev.next\n",
        "prev.next=newNode #왜 newNode.item이 아닌가?\n",
        "__numintems+=1"
      ]
    },
    {
      "cell_type": "markdown",
      "source": [
        "#내가 생각하는 답\n",
        "\n",
        "item은 링크가 아닌 원소 자체를 가리킨다. next는 다음 노드의 링크를 가리킨다.\n",
        "그러므로 해당 자리에는 원소인 item이 들어가는 게 아닌 newNode의 링크가 들어가야 한다,\n",
        "\n",
        "#이어지는 질문\n",
        "\n",
        "그럼 newNode 자체는 링크를 가리키는가?"
      ],
      "metadata": {
        "id": "GNDV0zFqVLht"
      }
    },
    {
      "cell_type": "code",
      "source": [
        "#질문\n",
        "__head=head.next\n",
        "__numItems-=1\n",
        "\n",
        "#none값인 __head에 head.next를 넣으면 결과적으로 건너뛴게 없으니 원소를 삭제하지 않은 것 아닌가?"
      ],
      "metadata": {
        "id": "xGPlBTYHbxU-"
      },
      "execution_count": null,
      "outputs": []
    },
    {
      "cell_type": "markdown",
      "source": [
        "#내가 생각하는 답\n",
        "\n",
        "__head는 애초에 none값을 가졌다. 이 자리에 head.next를 넣는 것은 원소를 삭제하기 위한 '전'처리 과정인 것이다."
      ],
      "metadata": {
        "id": "fIFZNWqCdwlD"
      }
    },
    {
      "cell_type": "code",
      "source": [],
      "metadata": {
        "id": "D-pFE_mzeFco"
      },
      "execution_count": null,
      "outputs": []
    }
  ]
}