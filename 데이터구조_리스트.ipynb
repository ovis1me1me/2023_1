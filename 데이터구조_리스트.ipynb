{
  "nbformat": 4,
  "nbformat_minor": 0,
  "metadata": {
    "colab": {
      "provenance": [],
      "collapsed_sections": [
        "BNsvQi35fcuW",
        "-IVxDd5Iipcd"
      ],
      "authorship_tag": "ABX9TyPFbeBdnl6xkJHs2iyltHYf",
      "include_colab_link": true
    },
    "kernelspec": {
      "name": "python3",
      "display_name": "Python 3"
    },
    "language_info": {
      "name": "python"
    }
  },
  "cells": [
    {
      "cell_type": "markdown",
      "metadata": {
        "id": "view-in-github",
        "colab_type": "text"
      },
      "source": [
        "<a href=\"https://colab.research.google.com/github/ovis1me1me/DataStructure/blob/test_branch/%EB%8D%B0%EC%9D%B4%ED%84%B0%EA%B5%AC%EC%A1%B0_%EB%A6%AC%EC%8A%A4%ED%8A%B8.ipynb\" target=\"_parent\"><img src=\"https://colab.research.google.com/assets/colab-badge.svg\" alt=\"Open In Colab\"/></a>"
      ]
    },
    {
      "cell_type": "markdown",
      "source": [
        "####원소 삽입"
      ],
      "metadata": {
        "id": "BNsvQi35fcuW"
      }
    },
    {
      "cell_type": "code",
      "source": [
        "'''\n",
        "newNode.item=x\n",
        "newNode.next=prev.next\n",
        "prev.next=newNode #Node 자체의 주소인가?\n",
        "numItem+=1\n",
        "'''"
      ],
      "metadata": {
        "id": "w_cbJL-jfgrw",
        "colab": {
          "base_uri": "https://localhost:8080/",
          "height": 36
        },
        "outputId": "7face42e-0108-429a-9d42-4d60ff2e379d"
      },
      "execution_count": 306,
      "outputs": [
        {
          "output_type": "execute_result",
          "data": {
            "text/plain": [
              "'\\nnewNode.item=x\\nnewNode.next=prev.next\\nprev.next=newNode #Node 자체의 주소인가?\\nnumItem+=1\\n'"
            ],
            "application/vnd.google.colaboratory.intrinsic+json": {
              "type": "string"
            }
          },
          "metadata": {},
          "execution_count": 306
        }
      ]
    },
    {
      "cell_type": "code",
      "source": [
        "#리스트 맨 앞에 삽입\n",
        "'''\n",
        "newNode.item=x\n",
        "newNode.next=__head\n",
        "__head=newNode\n",
        "__numItem+=1\n",
        "'''"
      ],
      "metadata": {
        "id": "6j3MPilAgDGD",
        "colab": {
          "base_uri": "https://localhost:8080/",
          "height": 36
        },
        "outputId": "ab8500fc-ec63-4097-ccd8-50748e9dfa04"
      },
      "execution_count": 307,
      "outputs": [
        {
          "output_type": "execute_result",
          "data": {
            "text/plain": [
              "'\\nnewNode.item=x\\nnewNode.next=__head\\n__head=newNode\\n__numItem+=1\\n'"
            ],
            "application/vnd.google.colaboratory.intrinsic+json": {
              "type": "string"
            }
          },
          "metadata": {},
          "execution_count": 307
        }
      ]
    },
    {
      "cell_type": "code",
      "source": [
        "#단 더미헤드를 만들면 두 코드를 2번째 코드를 작성하지 않아도 된다."
      ],
      "metadata": {
        "id": "FDKOp4GrglCd"
      },
      "execution_count": 308,
      "outputs": []
    },
    {
      "cell_type": "markdown",
      "source": [
        "####원소 삭제"
      ],
      "metadata": {
        "id": "2MqykREgg07q"
      }
    },
    {
      "cell_type": "code",
      "source": [
        "'''\n",
        "prev.next=prev.next.next\n",
        "numItem-=1\n",
        "'''"
      ],
      "metadata": {
        "id": "mz4d27EnhTiW",
        "colab": {
          "base_uri": "https://localhost:8080/",
          "height": 36
        },
        "outputId": "d33dd3d2-cd80-49e7-ae16-bf42d48cbec7"
      },
      "execution_count": 309,
      "outputs": [
        {
          "output_type": "execute_result",
          "data": {
            "text/plain": [
              "'\\nprev.next=prev.next.next\\nnumItem-=1\\n'"
            ],
            "application/vnd.google.colaboratory.intrinsic+json": {
              "type": "string"
            }
          },
          "metadata": {},
          "execution_count": 309
        }
      ]
    },
    {
      "cell_type": "code",
      "source": [
        "#맨 앞 노드를 삭제한다다\n",
        "'''\n",
        "__head.next=__head.next.next\n",
        "numItem-=1\n",
        "'''"
      ],
      "metadata": {
        "id": "8zGV_x9ShUFH",
        "colab": {
          "base_uri": "https://localhost:8080/",
          "height": 36
        },
        "outputId": "5653891b-dd07-42ca-b951-a6d5f930d4ba"
      },
      "execution_count": 310,
      "outputs": [
        {
          "output_type": "execute_result",
          "data": {
            "text/plain": [
              "'\\n__head.next=__head.next.next\\nnumItem-=1\\n'"
            ],
            "application/vnd.google.colaboratory.intrinsic+json": {
              "type": "string"
            }
          },
          "metadata": {},
          "execution_count": 310
        }
      ]
    },
    {
      "cell_type": "code",
      "source": [
        "#단 더미헤드를 만들면 두 코드를 2번째 코드를 작성하지 않아도 된다."
      ],
      "metadata": {
        "id": "vk9Z321uiC_7"
      },
      "execution_count": 311,
      "outputs": []
    },
    {
      "cell_type": "markdown",
      "source": [
        "####get(i)"
      ],
      "metadata": {
        "id": "-IVxDd5Iipcd"
      }
    },
    {
      "cell_type": "code",
      "source": [
        "'''\n",
        "get(i):\n",
        "  if i>=0 and i<=__numItem-1:\n",
        "    return __getNode(i).item\n",
        "  else:\n",
        "    print(\"error in get (\".i,\")\")\n",
        "    \n",
        "'''"
      ],
      "metadata": {
        "id": "2f4HWOz-itWJ",
        "colab": {
          "base_uri": "https://localhost:8080/",
          "height": 0
        },
        "outputId": "d1fc2f60-ed45-479e-84af-363101f11050"
      },
      "execution_count": 312,
      "outputs": [
        {
          "output_type": "execute_result",
          "data": {
            "text/plain": [
              "'\\nget(i):\\n  if i>=0 and i<=__numItem-1:\\n    return __getNode(i).item\\n  else:\\n    print(\"error in get (\".i,\")\")\\n    \\n'"
            ],
            "application/vnd.google.colaboratory.intrinsic+json": {
              "type": "string"
            }
          },
          "metadata": {},
          "execution_count": 312
        }
      ]
    },
    {
      "cell_type": "code",
      "source": [
        "#위 코드에서 사용된 __getNode의 코드이다.\n",
        "'''\n",
        "__getNode(i):\n",
        "  curr=__head\n",
        "  for index in range(i+1):\n",
        "    curr=crur.next\n",
        "  return curr\n",
        "'''"
      ],
      "metadata": {
        "id": "H7h8EaM2jerS",
        "colab": {
          "base_uri": "https://localhost:8080/",
          "height": 0
        },
        "outputId": "85d266b0-1811-4724-fc6e-ee7f54a5a9c9"
      },
      "execution_count": 313,
      "outputs": [
        {
          "output_type": "execute_result",
          "data": {
            "text/plain": [
              "'\\n__getNode(i):\\n  curr=__head\\n  for index in range(i+1):\\n    curr=crur.next\\n  return curr\\n'"
            ],
            "application/vnd.google.colaboratory.intrinsic+json": {
              "type": "string"
            }
          },
          "metadata": {},
          "execution_count": 313
        }
      ]
    },
    {
      "cell_type": "code",
      "source": [
        "#x가 리스트의 몇번 원소인지 알려주는 코드이다. \n",
        "'''\n",
        "index(x):\n",
        "  curr=__head\n",
        "  for index in range(__numItems):\n",
        "    curr=curr.next\n",
        "    if curr.item==x:\n",
        "      return index\n",
        "'''"
      ],
      "metadata": {
        "id": "CR_qqyNsj-ER",
        "colab": {
          "base_uri": "https://localhost:8080/",
          "height": 0
        },
        "outputId": "8ae365c5-6789-454a-840c-a3a513269b71"
      },
      "execution_count": 314,
      "outputs": [
        {
          "output_type": "execute_result",
          "data": {
            "text/plain": [
              "'\\nindex(x):\\n  curr=__head\\n  for index in range(__numItems):\\n    curr=curr.next\\n    if curr.item==x:\\n      return index\\n'"
            ],
            "application/vnd.google.colaboratory.intrinsic+json": {
              "type": "string"
            }
          },
          "metadata": {},
          "execution_count": 314
        }
      ]
    },
    {
      "cell_type": "markdown",
      "source": [
        "####isEmpty(), size(), clear()"
      ],
      "metadata": {
        "id": "Ija8Rb-CkqI0"
      }
    },
    {
      "cell_type": "code",
      "source": [
        "'''\n",
        "isEmpty():\n",
        "  return numItems==0 #True | False\n",
        "size():\n",
        "  return __numitems\n",
        "clear():\n",
        "  newNode.next=None\n",
        "  __head=newNode\n",
        "  __numItems=0\n",
        "'''"
      ],
      "metadata": {
        "id": "MvP2FaVykvza",
        "colab": {
          "base_uri": "https://localhost:8080/",
          "height": 36
        },
        "outputId": "77eabe8a-e97f-4dd9-8d3d-269c0b123971"
      },
      "execution_count": 315,
      "outputs": [
        {
          "output_type": "execute_result",
          "data": {
            "text/plain": [
              "'\\nisEmpty():\\n  return numItems==0 #True | False\\nsize():\\n  return __numitems\\nclear():\\n  newNode.next=None\\n  __head=newNode\\n  __numItems=0\\n'"
            ],
            "application/vnd.google.colaboratory.intrinsic+json": {
              "type": "string"
            }
          },
          "metadata": {},
          "execution_count": 315
        }
      ]
    },
    {
      "cell_type": "markdown",
      "source": [
        "####노드의 사용"
      ],
      "metadata": {
        "id": "37gFCxJ8lanO"
      }
    },
    {
      "cell_type": "code",
      "source": [
        "class List:\n",
        "  def __init__(self,newItem,nextNode):\n",
        "    self.item=newItem\n",
        "    self.next=nextNode\n",
        "x=3 #오류 표시를 없애기 위해 양한나가 집어넣었다.\n",
        "y=2\n",
        "z=1\n",
        "a=List(x,None) #x값을 가진 노드 객체a를 만들었다.\n",
        "b=List(y,None)\n",
        "c=List(x,None)\n",
        "a.next=b\n",
        "b.next=c\n",
        "print(a.next) \n",
        "print(a.item)\n"
      ],
      "metadata": {
        "colab": {
          "base_uri": "https://localhost:8080/"
        },
        "id": "GphqjK8klg9e",
        "outputId": "faf66c20-961e-4b6f-cf13-337b516a23a7"
      },
      "execution_count": 316,
      "outputs": [
        {
          "output_type": "stream",
          "name": "stdout",
          "text": [
            "<__main__.List object at 0x7ff76d1d4520>\n",
            "3\n"
          ]
        }
      ]
    },
    {
      "cell_type": "markdown",
      "source": [
        "####연결리스트를 구현해보자. 삽입과 삭제까지만"
      ],
      "metadata": {
        "id": "ngaMLgbizLFq"
      }
    },
    {
      "cell_type": "code",
      "source": [
        "class ListNode: #새로운 노드를 만드는 클래스이다.\n",
        "  def __init__(self,newItem,nextNode): #새로운 원소와 다음 노드의 주소를 받는다.\n",
        "    self.item=newItem   \n",
        "    self.next=nextNode"
      ],
      "metadata": {
        "id": "lZjvrdj0zReg"
      },
      "execution_count": 317,
      "outputs": []
    },
    {
      "cell_type": "code",
      "source": [
        "class ListNode: #새로운 노드를 만드는 클래스이다.\n",
        "  def __init__(self,newItem,nextNode): #새로운 원소와 다음 노드의 주소를 받는다.\n",
        "    self.item=newItem   \n",
        "    self.next=nextNode\n",
        "\n",
        "class LinkedListBasic:\n",
        "  def __init__(self):\n",
        "    self.__head=ListNode(\"dummy\",None) #더미헤드를 만들었다.\n",
        "    self.__numItems=0 #헤드를 제외한 노드의 갯수를 세어줄 것이다.\n",
        "\n",
        "  def insert(self,i:int,newItem):\n",
        "    if i>=0 and i<=self.__numItems:    #해당 if-else문은 오류를 프린트하기 위함이다. 존재하는 index+1까지 보장한다.\n",
        "      prev=self.__getNode(i-1) \n",
        "      newNode=ListNode(newItem,prev.next)\n",
        "      prev.next=newNode\n",
        "      self.__numItems+=1\n",
        "    else:\n",
        "      print(\"index\",i,\": out of bound in insert()\")\n",
        "    \n",
        "  def append(self,newItem):\n",
        "    prev=self.__getNode(self.__numItems-1) #마지막 노드를 찾았다.\n",
        "    newNode=ListNode(newItem,prev.next)\n",
        "    prev.next=newNode\n",
        "    self.__numItems+=1\n",
        "  \n",
        "  def pop(self,i:int):\n",
        "    if i>=0 and i<=self.__numItems-1:\n",
        "      prev=self.__getNode(self.numItems-1)\n",
        "      curr=prev.next\n",
        "      prev.next=prev.next.next\n",
        "      retItem=curr.item\n",
        "      self.__numItems-=1\n",
        "      return retItem\n",
        "    else:\n",
        "      return None\n",
        "  \n",
        "  def remove(self,x):\n",
        "    (prev,curr)=self.__findNode(x)\n",
        "    if curr!=None:\n",
        "      prev.next=prev.next.next  #교재엔 prev.next=curr.next 잘 작동하는지 확인인\n",
        "      self.__numItems-=1\n",
        "    else:\n",
        "      return None\n",
        "  \n",
        "  #i번 리스트를 알려주자.\n",
        "  def get(self,i):\n",
        "    if self.isEmpty():\n",
        "      return None\n",
        "    if i>=0 and i<self.__numItems-1:\n",
        "      return self.__getNode(i).item\n",
        "    else:\n",
        "      return None\n",
        "  \n",
        "  #원소 x는 몇번 인덱스?\n",
        "  def index(self,x):\n",
        "    curr=self.__head.next\n",
        "    cur_index=0\n",
        "    while curr.item!=x:\n",
        "      curr=curr.next\n",
        "      cur_index+=1\n",
        "    return cur_index\n",
        "    \n",
        "\n",
        "  def printList(self):\n",
        "    curr=self.__head.next\n",
        "    while curr!=None:\n",
        "      print(curr.item,end=' ')\n",
        "      curr=curr.next\n",
        "    print()\n",
        "\n",
        "    \n",
        "#원소 x가 몇번 나타나는지 센다.\n",
        "  def count(self,x):\n",
        "    curr=self.__head.next\n",
        "    count_x=0\n",
        "    while curr!=None:\n",
        "      if curr.item==x:\n",
        "        count_x+=1\n",
        "      curr=curr.next\n",
        "    return count_x\n",
        "\n",
        "  def __getNode(self,x): #index x를 찾아 해당 노드를 반환한다.\n",
        "    curr=self.__head #더미헤드의 인덱스는 -1\n",
        "    for index in range(x+1):\n",
        "      curr=curr.next\n",
        "    return curr\n",
        "    \n",
        "  \n",
        "  def __findNode(self,x): #return(ListNode,ListNode)\n",
        "    prev=self.__head #더미헤드\n",
        "    curr=prev.next #0번 노드\n",
        "    while curr!=None: #끝 헤드까지\n",
        "      if curr.item==x: #x원소를 찾으면 두 노드를 리턴하겠다.\n",
        "        return(prev,curr)\n",
        "      else:   #한 칸씩 이동하겠다.\n",
        "        prev=curr   \n",
        "        curr=curr.next\n",
        "    return(None,None) #원소x를 찾지 못하면 None값을 리턴하겠다.\n",
        "\n",
        "  def isEmpty(self)->bool:\n",
        "    self.__numItems==0\n",
        "  \n",
        "  #나중에 검수 ㄱ\n",
        "  def size(self):\n",
        "    return self.__numItems\n",
        "  \n",
        "  def clear(self):\n",
        "    self.__head.next=None\n",
        "    self.__numItems=0\n",
        "  \n",
        "  def extend(self,a)->list:\n",
        "    for index in range(a.size()):\n",
        "      self.append(a.get(index))\n",
        "  \n",
        "  def copy(self):\n",
        "    a=LinkedListBasic()\n",
        "    for index in range(self.__numItems):\n",
        "      a.append(self.get(index))\n",
        "    return a\n",
        "\n",
        "  def reverse(self):\n",
        "    a=LinkedListBasic()\n",
        "    for index in range(self.numItems):\n",
        "      a.insert(0,self.get(index))\n",
        "    self.clear()\n",
        "    for index in range(a.size()):\n",
        "      self.append(a.get(index))\n",
        "    a.clear()\n",
        "  \n",
        "  def sort(self):\n",
        "    a=[]\n",
        "    for index in range(self.__numItem):\n",
        "      a.append(self.get(index))\n",
        "    a.sort()\n",
        "    self.clear\n",
        "    for index in range(len(a)):\n",
        "      self.append(a[index])"
      ],
      "metadata": {
        "id": "-N2MwNGX0AOe"
      },
      "execution_count": 318,
      "outputs": []
    },
    {
      "cell_type": "code",
      "source": [
        "b=LinkedListBasic()\n",
        "b.append(0)\n",
        "b.append(0)\n",
        "b.append(3)\n",
        "b.append(4)\n",
        "b.append(0)\n"
      ],
      "metadata": {
        "id": "z0URPkXL3I7K"
      },
      "execution_count": 319,
      "outputs": []
    },
    {
      "cell_type": "code",
      "source": [
        "b.count(5)"
      ],
      "metadata": {
        "colab": {
          "base_uri": "https://localhost:8080/"
        },
        "id": "BjQ0OvLLHCP8",
        "outputId": "06fdc6cf-5c0b-41e8-cd1d-487e292c408a"
      },
      "execution_count": 320,
      "outputs": [
        {
          "output_type": "execute_result",
          "data": {
            "text/plain": [
              "0"
            ]
          },
          "metadata": {},
          "execution_count": 320
        }
      ]
    },
    {
      "cell_type": "code",
      "source": [
        "b.printList()"
      ],
      "metadata": {
        "colab": {
          "base_uri": "https://localhost:8080/"
        },
        "id": "hFtjforcLAaH",
        "outputId": "84fcd674-2fd8-49b8-8b6c-a853b688ec74"
      },
      "execution_count": 321,
      "outputs": [
        {
          "output_type": "stream",
          "name": "stdout",
          "text": [
            "0 0 3 4 0 \n"
          ]
        }
      ]
    },
    {
      "cell_type": "code",
      "source": [
        "b.get(3)"
      ],
      "metadata": {
        "colab": {
          "base_uri": "https://localhost:8080/"
        },
        "id": "l8c8ZwzvN3e3",
        "outputId": "8e037958-b424-4c68-c85f-ac1a2b529cef"
      },
      "execution_count": 322,
      "outputs": [
        {
          "output_type": "execute_result",
          "data": {
            "text/plain": [
              "4"
            ]
          },
          "metadata": {},
          "execution_count": 322
        }
      ]
    },
    {
      "cell_type": "code",
      "source": [
        "b.index(4)"
      ],
      "metadata": {
        "colab": {
          "base_uri": "https://localhost:8080/"
        },
        "id": "B7BR_Jz8Pb-6",
        "outputId": "e873a9ae-d0a4-47d4-b125-b034eb780a56"
      },
      "execution_count": 323,
      "outputs": [
        {
          "output_type": "execute_result",
          "data": {
            "text/plain": [
              "3"
            ]
          },
          "metadata": {},
          "execution_count": 323
        }
      ]
    },
    {
      "cell_type": "code",
      "source": [
        "b.size()\n"
      ],
      "metadata": {
        "colab": {
          "base_uri": "https://localhost:8080/"
        },
        "id": "wy8zYTLFXQxP",
        "outputId": "75c4b736-7805-4ad9-f91e-7fce6a5b373e"
      },
      "execution_count": 324,
      "outputs": [
        {
          "output_type": "execute_result",
          "data": {
            "text/plain": [
              "5"
            ]
          },
          "metadata": {},
          "execution_count": 324
        }
      ]
    },
    {
      "cell_type": "code",
      "source": [
        "b.sort"
      ],
      "metadata": {
        "colab": {
          "base_uri": "https://localhost:8080/"
        },
        "id": "GJGwSeZ3YLEI",
        "outputId": "130fe84c-9fff-4889-f9f3-8eed80799a54"
      },
      "execution_count": 329,
      "outputs": [
        {
          "output_type": "execute_result",
          "data": {
            "text/plain": [
              "<bound method LinkedListBasic.sort of <__main__.LinkedListBasic object at 0x7ff76d259c40>>"
            ]
          },
          "metadata": {},
          "execution_count": 329
        }
      ]
    },
    {
      "cell_type": "code",
      "source": [
        "b.printList()"
      ],
      "metadata": {
        "colab": {
          "base_uri": "https://localhost:8080/"
        },
        "id": "4sPr8kbKYuPJ",
        "outputId": "18a25ba8-7d8e-4327-ba4a-d3f2b55ea0c3"
      },
      "execution_count": 330,
      "outputs": [
        {
          "output_type": "stream",
          "name": "stdout",
          "text": [
            "0 0 3 4 0 \n"
          ]
        }
      ]
    }
  ]
}