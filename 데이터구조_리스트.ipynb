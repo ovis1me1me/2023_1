{
  "nbformat": 4,
  "nbformat_minor": 0,
  "metadata": {
    "colab": {
      "provenance": [],
      "collapsed_sections": [
        "BNsvQi35fcuW",
        "-IVxDd5Iipcd",
        "Ija8Rb-CkqI0"
      ],
      "authorship_tag": "ABX9TyP6csaF35Km6L9+WhZx/hQO",
      "include_colab_link": true
    },
    "kernelspec": {
      "name": "python3",
      "display_name": "Python 3"
    },
    "language_info": {
      "name": "python"
    }
  },
  "cells": [
    {
      "cell_type": "markdown",
      "metadata": {
        "id": "view-in-github",
        "colab_type": "text"
      },
      "source": [
        "<a href=\"https://colab.research.google.com/github/ovis1me1me/2023_1/blob/test_branch/%EB%8D%B0%EC%9D%B4%ED%84%B0%EA%B5%AC%EC%A1%B0_%EB%A6%AC%EC%8A%A4%ED%8A%B8.ipynb\" target=\"_parent\"><img src=\"https://colab.research.google.com/assets/colab-badge.svg\" alt=\"Open In Colab\"/></a>"
      ]
    },
    {
      "cell_type": "markdown",
      "source": [
        "####원소 삽입"
      ],
      "metadata": {
        "id": "BNsvQi35fcuW"
      }
    },
    {
      "cell_type": "code",
      "source": [
        "'''\n",
        "newNode.item=x\n",
        "newNode.next=prev.next\n",
        "prev.next=newNode #Node 자체의 주소인가?\n",
        "numItem+=1\n",
        "'''"
      ],
      "metadata": {
        "id": "w_cbJL-jfgrw"
      },
      "execution_count": null,
      "outputs": []
    },
    {
      "cell_type": "code",
      "source": [
        "#리스트 맨 앞에 삽입\n",
        "'''\n",
        "newNode.item=x\n",
        "newNode.next=__head\n",
        "__head=newNode\n",
        "__numItem+=1\n",
        "'''"
      ],
      "metadata": {
        "id": "6j3MPilAgDGD"
      },
      "execution_count": null,
      "outputs": []
    },
    {
      "cell_type": "code",
      "source": [
        "#단 더미헤드를 만들면 두 코드를 2번째 코드를 작성하지 않아도 된다."
      ],
      "metadata": {
        "id": "FDKOp4GrglCd"
      },
      "execution_count": null,
      "outputs": []
    },
    {
      "cell_type": "markdown",
      "source": [
        "####원소 삭제"
      ],
      "metadata": {
        "id": "2MqykREgg07q"
      }
    },
    {
      "cell_type": "code",
      "source": [
        "'''\n",
        "prev.next=prev.next.next\n",
        "numItem-=1\n",
        "'''"
      ],
      "metadata": {
        "id": "mz4d27EnhTiW"
      },
      "execution_count": null,
      "outputs": []
    },
    {
      "cell_type": "code",
      "source": [
        "#맨 앞 노드를 삭제할 때\n",
        "'''\n",
        "__head.next=__head.next.next\n",
        "numItem-=1\n",
        "'''"
      ],
      "metadata": {
        "id": "8zGV_x9ShUFH"
      },
      "execution_count": null,
      "outputs": []
    },
    {
      "cell_type": "code",
      "source": [
        "#단 더미헤드를 만들면 두 코드를 2번째 코드를 작성하지 않아도 된다."
      ],
      "metadata": {
        "id": "vk9Z321uiC_7"
      },
      "execution_count": null,
      "outputs": []
    },
    {
      "cell_type": "markdown",
      "source": [
        "####get(i)"
      ],
      "metadata": {
        "id": "-IVxDd5Iipcd"
      }
    },
    {
      "cell_type": "code",
      "source": [
        "'''\n",
        "get(i):\n",
        "  if i>=0 and i<=__numItem-1:\n",
        "    return __getNode(i).item\n",
        "  else:\n",
        "    print(\"error in get (\".i,\")\")\n",
        "    \n",
        "'''"
      ],
      "metadata": {
        "id": "2f4HWOz-itWJ"
      },
      "execution_count": null,
      "outputs": []
    },
    {
      "cell_type": "code",
      "source": [
        "#위 코드에서 사용된 __getNode의 코드이다.\n",
        "'''\n",
        "__getNode(i):\n",
        "  curr=__head\n",
        "  for index in range(i+1):\n",
        "    curr=crur.next\n",
        "  return curr\n",
        "'''"
      ],
      "metadata": {
        "id": "H7h8EaM2jerS"
      },
      "execution_count": null,
      "outputs": []
    },
    {
      "cell_type": "code",
      "source": [
        "#x가 리스트의 몇번 원소인지 알려주는 코드이다. \n",
        "'''\n",
        "index(x):\n",
        "  curr=__head\n",
        "  for index in range(__numItems):\n",
        "    curr=curr.next\n",
        "    if curr.item==x:\n",
        "      return index\n",
        "'''"
      ],
      "metadata": {
        "id": "CR_qqyNsj-ER"
      },
      "execution_count": null,
      "outputs": []
    },
    {
      "cell_type": "markdown",
      "source": [
        "####isEmpty(), size(), clear()"
      ],
      "metadata": {
        "id": "Ija8Rb-CkqI0"
      }
    },
    {
      "cell_type": "code",
      "source": [
        "'''\n",
        "isEmpty():\n",
        "  return numItems==0 #True | False\n",
        "size():\n",
        "  return __numitems\n",
        "clear():\n",
        "  newNode.next=None\n",
        "  __head=newNode\n",
        "  __numItems=0\n",
        "'''"
      ],
      "metadata": {
        "id": "MvP2FaVykvza"
      },
      "execution_count": null,
      "outputs": []
    },
    {
      "cell_type": "markdown",
      "source": [
        "####노드의 사용"
      ],
      "metadata": {
        "id": "37gFCxJ8lanO"
      }
    },
    {
      "cell_type": "code",
      "source": [
        "class List:\n",
        "  def __init__(self,newItem,nextNode):\n",
        "    self.item=newItem\n",
        "    self.next=nextNode\n",
        "x=3 #오류 표시를 없애기 위해 양한나가 집어넣었다.\n",
        "y=2\n",
        "z=1\n",
        "a=List(x,None) #x값을 가진 노드 객체a를 만들었다.\n",
        "b=List(y,None)\n",
        "c=List(x,None)\n",
        "a.next=b\n",
        "b.next=c\n",
        "print(a.next) \n",
        "print(a.item)\n"
      ],
      "metadata": {
        "colab": {
          "base_uri": "https://localhost:8080/"
        },
        "id": "GphqjK8klg9e",
        "outputId": "44bdc3ac-0ed0-4caf-bc79-2a644c3ff100"
      },
      "execution_count": null,
      "outputs": [
        {
          "output_type": "stream",
          "name": "stdout",
          "text": [
            "<__main__.List object at 0x7fba482008b0>\n",
            "3\n"
          ]
        }
      ]
    },
    {
      "cell_type": "markdown",
      "source": [
        "####연결리스트를 구현해보자. 삽입과 삭제까지만"
      ],
      "metadata": {
        "id": "ngaMLgbizLFq"
      }
    },
    {
      "cell_type": "code",
      "source": [
        "class ListNode: #새로운 노드를 만드는 클래스이다.\n",
        "  def __init__(self,newItem,nextNode): #새로운 원소와 다음 노드의 주소를 받는다.\n",
        "    self.item=newItem   \n",
        "    self.next=nextNode"
      ],
      "metadata": {
        "id": "lZjvrdj0zReg"
      },
      "execution_count": null,
      "outputs": []
    },
    {
      "cell_type": "code",
      "source": [
        "class ListNode: #새로운 노드를 만드는 클래스이다.\n",
        "  def __init__(self,newItem,nextNode): #새로운 원소와 다음 노드의 주소를 받는다.\n",
        "    self.item=newItem   \n",
        "    self.next=nextNode\n",
        "\n",
        "class LinkedListBasic:\n",
        "  def __init__(self):\n",
        "    self.__head=ListNode(\"dummy\",None) #더미헤드를 만들었다.\n",
        "    self.__numItems=0 #헤드를 제외한 노드의 갯수를 세어줄 것이다.\n",
        "\n",
        "  def insert(self,i:int,newItem):\n",
        "    if i>=0 and i<=self.__numItems:    #해당 if-else문은 오류를 프린트하기 위함이다. 존재하는 index+1까지 보장한다.\n",
        "      prev=self.__getNode(i-1) \n",
        "      newNode=ListNode(newItem,prev.next)\n",
        "      prev.next=newNode\n",
        "      self.__numItems+=1\n",
        "    else:\n",
        "      print(\"index\",i,\": out of bound in insert()\")\n",
        "    \n",
        "  def append(self,newItem):\n",
        "    prev=self.__getNode(self.numItems-1) #마지막 노드를 찾았다.\n",
        "    newNode=ListNode(newItem,prev.next)\n",
        "    prev.next=newNode\n",
        "    self.__numItems+=1\n",
        "  \n",
        "  def pop(self,i:int):\n",
        "    if i>=0 and i<=self.__numItems-1:\n",
        "      prev=self.__getNode(self.numItems-1)\n",
        "      curr=prev.next\n",
        "      prev.next=prev.next.next\n",
        "      retItem=curr.item\n",
        "      self.__numItems-=1\n",
        "      return retItem\n",
        "    else:\n",
        "      return None\n",
        "  \n",
        "  def remove(self,x):\n",
        "    pass\n",
        "\n",
        "  def __getNode(self):\n",
        "    pass\n",
        "  \n",
        "a=LinkedListBasic()\n",
        "a.append(3)"
      ],
      "metadata": {
        "colab": {
          "base_uri": "https://localhost:8080/",
          "height": 343
        },
        "id": "-N2MwNGX0AOe",
        "outputId": "e1b73410-8f18-49c5-e1fa-b4ac32e35c07"
      },
      "execution_count": 23,
      "outputs": [
        {
          "output_type": "error",
          "ename": "AttributeError",
          "evalue": "ignored",
          "traceback": [
            "\u001b[0;31m---------------------------------------------------------------------------\u001b[0m",
            "\u001b[0;31mAttributeError\u001b[0m                            Traceback (most recent call last)",
            "\u001b[0;32m<ipython-input-23-6a872f6eb584>\u001b[0m in \u001b[0;36m<module>\u001b[0;34m\u001b[0m\n\u001b[1;32m     42\u001b[0m \u001b[0;34m\u001b[0m\u001b[0m\n\u001b[1;32m     43\u001b[0m \u001b[0ma\u001b[0m\u001b[0;34m=\u001b[0m\u001b[0mLinkedListBasic\u001b[0m\u001b[0;34m(\u001b[0m\u001b[0;34m)\u001b[0m\u001b[0;34m\u001b[0m\u001b[0;34m\u001b[0m\u001b[0m\n\u001b[0;32m---> 44\u001b[0;31m \u001b[0ma\u001b[0m\u001b[0;34m.\u001b[0m\u001b[0mappend\u001b[0m\u001b[0;34m(\u001b[0m\u001b[0;36m3\u001b[0m\u001b[0;34m)\u001b[0m\u001b[0;34m\u001b[0m\u001b[0;34m\u001b[0m\u001b[0m\n\u001b[0m",
            "\u001b[0;32m<ipython-input-23-6a872f6eb584>\u001b[0m in \u001b[0;36mappend\u001b[0;34m(self, newItem)\u001b[0m\n\u001b[1;32m     19\u001b[0m \u001b[0;34m\u001b[0m\u001b[0m\n\u001b[1;32m     20\u001b[0m   \u001b[0;32mdef\u001b[0m \u001b[0mappend\u001b[0m\u001b[0;34m(\u001b[0m\u001b[0mself\u001b[0m\u001b[0;34m,\u001b[0m\u001b[0mnewItem\u001b[0m\u001b[0;34m)\u001b[0m\u001b[0;34m:\u001b[0m\u001b[0;34m\u001b[0m\u001b[0;34m\u001b[0m\u001b[0m\n\u001b[0;32m---> 21\u001b[0;31m     \u001b[0mprev\u001b[0m\u001b[0;34m=\u001b[0m\u001b[0mself\u001b[0m\u001b[0;34m.\u001b[0m\u001b[0m__getNode\u001b[0m\u001b[0;34m(\u001b[0m\u001b[0mself\u001b[0m\u001b[0;34m.\u001b[0m\u001b[0mnumItems\u001b[0m\u001b[0;34m-\u001b[0m\u001b[0;36m1\u001b[0m\u001b[0;34m)\u001b[0m \u001b[0;31m#마지막 노드를 찾았다.\u001b[0m\u001b[0;34m\u001b[0m\u001b[0;34m\u001b[0m\u001b[0m\n\u001b[0m\u001b[1;32m     22\u001b[0m     \u001b[0mnewNode\u001b[0m\u001b[0;34m=\u001b[0m\u001b[0mListNode\u001b[0m\u001b[0;34m(\u001b[0m\u001b[0mnewItem\u001b[0m\u001b[0;34m,\u001b[0m\u001b[0mprev\u001b[0m\u001b[0;34m.\u001b[0m\u001b[0mnext\u001b[0m\u001b[0;34m)\u001b[0m\u001b[0;34m\u001b[0m\u001b[0;34m\u001b[0m\u001b[0m\n\u001b[1;32m     23\u001b[0m     \u001b[0mprev\u001b[0m\u001b[0;34m.\u001b[0m\u001b[0mnext\u001b[0m\u001b[0;34m=\u001b[0m\u001b[0mnewNode\u001b[0m\u001b[0;34m\u001b[0m\u001b[0;34m\u001b[0m\u001b[0m\n",
            "\u001b[0;31mAttributeError\u001b[0m: 'LinkedListBasic' object has no attribute 'numItems'"
          ]
        }
      ]
    }
  ]
}